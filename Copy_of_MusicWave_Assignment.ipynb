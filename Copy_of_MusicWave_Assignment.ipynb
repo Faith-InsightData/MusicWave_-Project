{
  "nbformat": 4,
  "nbformat_minor": 0,
  "metadata": {
    "colab": {
      "provenance": [],
      "include_colab_link": true
    },
    "kernelspec": {
      "name": "python3",
      "display_name": "Python 3"
    },
    "language_info": {
      "name": "python"
    }
  },
  "cells": [
    {
      "cell_type": "markdown",
      "metadata": {
        "id": "view-in-github",
        "colab_type": "text"
      },
      "source": [
        "<a href=\"https://colab.research.google.com/github/Faith-InsightData/MusicWave_-Project/blob/main/Copy_of_MusicWave_Assignment.ipynb\" target=\"_parent\"><img src=\"https://colab.research.google.com/assets/colab-badge.svg\" alt=\"Open In Colab\"/></a>"
      ]
    },
    {
      "cell_type": "markdown",
      "source": [
        "# **Chinook Database Analysis Assignment**\n",
        "\n",
        "## **Scenario:**\n",
        "\n",
        "You are a data analyst at **MusicWave Inc.**, a company that specializes in music distribution and sales. Your company uses the Chinook database to manage its music collection, sales, and customer information. Recently, your manager has tasked you with analyzing the database to extract valuable insights that can help the company make informed business decisions.\n",
        "\n",
        "## **Introduction to the Chinook Database:**\n",
        "\n",
        "The Chinook database is a sample database that represents a digital media store. It includes tables for:\n",
        "- **Artists**: Information about the music artists.\n",
        "- **Albums**: Information about the albums, each linked to an artist.\n",
        "- **Tracks**: Information about individual tracks, including which album they belong to.\n",
        "- **Customers**: Information about the customers.\n",
        "- **Invoices**: Information about sales transactions.\n",
        "- **InvoiceLines**: Detailed information about each item in an invoice.\n",
        "- **Genres**: Information about the genres of the tracks.\n",
        "- **MediaTypes**: Information about the types of media.\n",
        "- **Employees**: Information about the employees.\n",
        "\n",
        "The database schema allows for complex queries to analyze various aspects of the music store's operations.\n",
        "\n",
        "## **Getting Started:**\n",
        "\n",
        "### **Download the Chinook Database**\n",
        "\n",
        "1. Download the Chinook SQLite database from [here](https://github.com/lerocha/chinook-database/raw/master/ChinookDatabase/DataSources/Chinook_Sqlite.sqlite).\n",
        "\n",
        "2. Upload the `Chinook_Sqlite.sqlite` file to your Google Colab environment.\n",
        "\n",
        "### **Setting Up the Environment**\n",
        "\n",
        "Run the following cells to set up your environment and connect to the Chinook database.\n",
        "\n",
        "```python\n",
        "# Install sqlite3 library (if not already installed)\n",
        "!pip install sqlite3\n",
        "\n",
        "# Import necessary libraries\n",
        "import sqlite3\n",
        "import pandas as pd\n",
        "\n",
        "# Connect to the SQLite database\n",
        "conn = sqlite3.connect('Chinook_Sqlite.sqlite')\n"
      ],
      "metadata": {
        "id": "2-kEG5-hI2hB"
      }
    },
    {
      "cell_type": "code",
      "execution_count": 1,
      "metadata": {
        "colab": {
          "base_uri": "https://localhost:8080/",
          "height": 394
        },
        "id": "_dRd76_1G4JM",
        "outputId": "965de2d0-915a-4357-8efd-41238a0539e4"
      },
      "outputs": [
        {
          "output_type": "execute_result",
          "data": {
            "text/plain": [
              "     type           name\n",
              "0   table          Album\n",
              "1   table         Artist\n",
              "2   table       Customer\n",
              "3   table       Employee\n",
              "4   table          Genre\n",
              "5   table        Invoice\n",
              "6   table    InvoiceLine\n",
              "7   table      MediaType\n",
              "8   table       Playlist\n",
              "9   table  PlaylistTrack\n",
              "10  table          Track"
            ],
            "text/html": [
              "\n",
              "  <div id=\"df-5d621cd3-2b6e-46a5-8add-1cd8ecb1578d\" class=\"colab-df-container\">\n",
              "    <div>\n",
              "<style scoped>\n",
              "    .dataframe tbody tr th:only-of-type {\n",
              "        vertical-align: middle;\n",
              "    }\n",
              "\n",
              "    .dataframe tbody tr th {\n",
              "        vertical-align: top;\n",
              "    }\n",
              "\n",
              "    .dataframe thead th {\n",
              "        text-align: right;\n",
              "    }\n",
              "</style>\n",
              "<table border=\"1\" class=\"dataframe\">\n",
              "  <thead>\n",
              "    <tr style=\"text-align: right;\">\n",
              "      <th></th>\n",
              "      <th>type</th>\n",
              "      <th>name</th>\n",
              "    </tr>\n",
              "  </thead>\n",
              "  <tbody>\n",
              "    <tr>\n",
              "      <th>0</th>\n",
              "      <td>table</td>\n",
              "      <td>Album</td>\n",
              "    </tr>\n",
              "    <tr>\n",
              "      <th>1</th>\n",
              "      <td>table</td>\n",
              "      <td>Artist</td>\n",
              "    </tr>\n",
              "    <tr>\n",
              "      <th>2</th>\n",
              "      <td>table</td>\n",
              "      <td>Customer</td>\n",
              "    </tr>\n",
              "    <tr>\n",
              "      <th>3</th>\n",
              "      <td>table</td>\n",
              "      <td>Employee</td>\n",
              "    </tr>\n",
              "    <tr>\n",
              "      <th>4</th>\n",
              "      <td>table</td>\n",
              "      <td>Genre</td>\n",
              "    </tr>\n",
              "    <tr>\n",
              "      <th>5</th>\n",
              "      <td>table</td>\n",
              "      <td>Invoice</td>\n",
              "    </tr>\n",
              "    <tr>\n",
              "      <th>6</th>\n",
              "      <td>table</td>\n",
              "      <td>InvoiceLine</td>\n",
              "    </tr>\n",
              "    <tr>\n",
              "      <th>7</th>\n",
              "      <td>table</td>\n",
              "      <td>MediaType</td>\n",
              "    </tr>\n",
              "    <tr>\n",
              "      <th>8</th>\n",
              "      <td>table</td>\n",
              "      <td>Playlist</td>\n",
              "    </tr>\n",
              "    <tr>\n",
              "      <th>9</th>\n",
              "      <td>table</td>\n",
              "      <td>PlaylistTrack</td>\n",
              "    </tr>\n",
              "    <tr>\n",
              "      <th>10</th>\n",
              "      <td>table</td>\n",
              "      <td>Track</td>\n",
              "    </tr>\n",
              "  </tbody>\n",
              "</table>\n",
              "</div>\n",
              "    <div class=\"colab-df-buttons\">\n",
              "\n",
              "  <div class=\"colab-df-container\">\n",
              "    <button class=\"colab-df-convert\" onclick=\"convertToInteractive('df-5d621cd3-2b6e-46a5-8add-1cd8ecb1578d')\"\n",
              "            title=\"Convert this dataframe to an interactive table.\"\n",
              "            style=\"display:none;\">\n",
              "\n",
              "  <svg xmlns=\"http://www.w3.org/2000/svg\" height=\"24px\" viewBox=\"0 -960 960 960\">\n",
              "    <path d=\"M120-120v-720h720v720H120Zm60-500h600v-160H180v160Zm220 220h160v-160H400v160Zm0 220h160v-160H400v160ZM180-400h160v-160H180v160Zm440 0h160v-160H620v160ZM180-180h160v-160H180v160Zm440 0h160v-160H620v160Z\"/>\n",
              "  </svg>\n",
              "    </button>\n",
              "\n",
              "  <style>\n",
              "    .colab-df-container {\n",
              "      display:flex;\n",
              "      gap: 12px;\n",
              "    }\n",
              "\n",
              "    .colab-df-convert {\n",
              "      background-color: #E8F0FE;\n",
              "      border: none;\n",
              "      border-radius: 50%;\n",
              "      cursor: pointer;\n",
              "      display: none;\n",
              "      fill: #1967D2;\n",
              "      height: 32px;\n",
              "      padding: 0 0 0 0;\n",
              "      width: 32px;\n",
              "    }\n",
              "\n",
              "    .colab-df-convert:hover {\n",
              "      background-color: #E2EBFA;\n",
              "      box-shadow: 0px 1px 2px rgba(60, 64, 67, 0.3), 0px 1px 3px 1px rgba(60, 64, 67, 0.15);\n",
              "      fill: #174EA6;\n",
              "    }\n",
              "\n",
              "    .colab-df-buttons div {\n",
              "      margin-bottom: 4px;\n",
              "    }\n",
              "\n",
              "    [theme=dark] .colab-df-convert {\n",
              "      background-color: #3B4455;\n",
              "      fill: #D2E3FC;\n",
              "    }\n",
              "\n",
              "    [theme=dark] .colab-df-convert:hover {\n",
              "      background-color: #434B5C;\n",
              "      box-shadow: 0px 1px 3px 1px rgba(0, 0, 0, 0.15);\n",
              "      filter: drop-shadow(0px 1px 2px rgba(0, 0, 0, 0.3));\n",
              "      fill: #FFFFFF;\n",
              "    }\n",
              "  </style>\n",
              "\n",
              "    <script>\n",
              "      const buttonEl =\n",
              "        document.querySelector('#df-5d621cd3-2b6e-46a5-8add-1cd8ecb1578d button.colab-df-convert');\n",
              "      buttonEl.style.display =\n",
              "        google.colab.kernel.accessAllowed ? 'block' : 'none';\n",
              "\n",
              "      async function convertToInteractive(key) {\n",
              "        const element = document.querySelector('#df-5d621cd3-2b6e-46a5-8add-1cd8ecb1578d');\n",
              "        const dataTable =\n",
              "          await google.colab.kernel.invokeFunction('convertToInteractive',\n",
              "                                                    [key], {});\n",
              "        if (!dataTable) return;\n",
              "\n",
              "        const docLinkHtml = 'Like what you see? Visit the ' +\n",
              "          '<a target=\"_blank\" href=https://colab.research.google.com/notebooks/data_table.ipynb>data table notebook</a>'\n",
              "          + ' to learn more about interactive tables.';\n",
              "        element.innerHTML = '';\n",
              "        dataTable['output_type'] = 'display_data';\n",
              "        await google.colab.output.renderOutput(dataTable, element);\n",
              "        const docLink = document.createElement('div');\n",
              "        docLink.innerHTML = docLinkHtml;\n",
              "        element.appendChild(docLink);\n",
              "      }\n",
              "    </script>\n",
              "  </div>\n",
              "\n",
              "\n",
              "<div id=\"df-664f9d39-6a43-460c-92bc-28151e44f14c\">\n",
              "  <button class=\"colab-df-quickchart\" onclick=\"quickchart('df-664f9d39-6a43-460c-92bc-28151e44f14c')\"\n",
              "            title=\"Suggest charts\"\n",
              "            style=\"display:none;\">\n",
              "\n",
              "<svg xmlns=\"http://www.w3.org/2000/svg\" height=\"24px\"viewBox=\"0 0 24 24\"\n",
              "     width=\"24px\">\n",
              "    <g>\n",
              "        <path d=\"M19 3H5c-1.1 0-2 .9-2 2v14c0 1.1.9 2 2 2h14c1.1 0 2-.9 2-2V5c0-1.1-.9-2-2-2zM9 17H7v-7h2v7zm4 0h-2V7h2v10zm4 0h-2v-4h2v4z\"/>\n",
              "    </g>\n",
              "</svg>\n",
              "  </button>\n",
              "\n",
              "<style>\n",
              "  .colab-df-quickchart {\n",
              "      --bg-color: #E8F0FE;\n",
              "      --fill-color: #1967D2;\n",
              "      --hover-bg-color: #E2EBFA;\n",
              "      --hover-fill-color: #174EA6;\n",
              "      --disabled-fill-color: #AAA;\n",
              "      --disabled-bg-color: #DDD;\n",
              "  }\n",
              "\n",
              "  [theme=dark] .colab-df-quickchart {\n",
              "      --bg-color: #3B4455;\n",
              "      --fill-color: #D2E3FC;\n",
              "      --hover-bg-color: #434B5C;\n",
              "      --hover-fill-color: #FFFFFF;\n",
              "      --disabled-bg-color: #3B4455;\n",
              "      --disabled-fill-color: #666;\n",
              "  }\n",
              "\n",
              "  .colab-df-quickchart {\n",
              "    background-color: var(--bg-color);\n",
              "    border: none;\n",
              "    border-radius: 50%;\n",
              "    cursor: pointer;\n",
              "    display: none;\n",
              "    fill: var(--fill-color);\n",
              "    height: 32px;\n",
              "    padding: 0;\n",
              "    width: 32px;\n",
              "  }\n",
              "\n",
              "  .colab-df-quickchart:hover {\n",
              "    background-color: var(--hover-bg-color);\n",
              "    box-shadow: 0 1px 2px rgba(60, 64, 67, 0.3), 0 1px 3px 1px rgba(60, 64, 67, 0.15);\n",
              "    fill: var(--button-hover-fill-color);\n",
              "  }\n",
              "\n",
              "  .colab-df-quickchart-complete:disabled,\n",
              "  .colab-df-quickchart-complete:disabled:hover {\n",
              "    background-color: var(--disabled-bg-color);\n",
              "    fill: var(--disabled-fill-color);\n",
              "    box-shadow: none;\n",
              "  }\n",
              "\n",
              "  .colab-df-spinner {\n",
              "    border: 2px solid var(--fill-color);\n",
              "    border-color: transparent;\n",
              "    border-bottom-color: var(--fill-color);\n",
              "    animation:\n",
              "      spin 1s steps(1) infinite;\n",
              "  }\n",
              "\n",
              "  @keyframes spin {\n",
              "    0% {\n",
              "      border-color: transparent;\n",
              "      border-bottom-color: var(--fill-color);\n",
              "      border-left-color: var(--fill-color);\n",
              "    }\n",
              "    20% {\n",
              "      border-color: transparent;\n",
              "      border-left-color: var(--fill-color);\n",
              "      border-top-color: var(--fill-color);\n",
              "    }\n",
              "    30% {\n",
              "      border-color: transparent;\n",
              "      border-left-color: var(--fill-color);\n",
              "      border-top-color: var(--fill-color);\n",
              "      border-right-color: var(--fill-color);\n",
              "    }\n",
              "    40% {\n",
              "      border-color: transparent;\n",
              "      border-right-color: var(--fill-color);\n",
              "      border-top-color: var(--fill-color);\n",
              "    }\n",
              "    60% {\n",
              "      border-color: transparent;\n",
              "      border-right-color: var(--fill-color);\n",
              "    }\n",
              "    80% {\n",
              "      border-color: transparent;\n",
              "      border-right-color: var(--fill-color);\n",
              "      border-bottom-color: var(--fill-color);\n",
              "    }\n",
              "    90% {\n",
              "      border-color: transparent;\n",
              "      border-bottom-color: var(--fill-color);\n",
              "    }\n",
              "  }\n",
              "</style>\n",
              "\n",
              "  <script>\n",
              "    async function quickchart(key) {\n",
              "      const quickchartButtonEl =\n",
              "        document.querySelector('#' + key + ' button');\n",
              "      quickchartButtonEl.disabled = true;  // To prevent multiple clicks.\n",
              "      quickchartButtonEl.classList.add('colab-df-spinner');\n",
              "      try {\n",
              "        const charts = await google.colab.kernel.invokeFunction(\n",
              "            'suggestCharts', [key], {});\n",
              "      } catch (error) {\n",
              "        console.error('Error during call to suggestCharts:', error);\n",
              "      }\n",
              "      quickchartButtonEl.classList.remove('colab-df-spinner');\n",
              "      quickchartButtonEl.classList.add('colab-df-quickchart-complete');\n",
              "    }\n",
              "    (() => {\n",
              "      let quickchartButtonEl =\n",
              "        document.querySelector('#df-664f9d39-6a43-460c-92bc-28151e44f14c button');\n",
              "      quickchartButtonEl.style.display =\n",
              "        google.colab.kernel.accessAllowed ? 'block' : 'none';\n",
              "    })();\n",
              "  </script>\n",
              "</div>\n",
              "\n",
              "    </div>\n",
              "  </div>\n"
            ],
            "application/vnd.google.colaboratory.intrinsic+json": {
              "type": "dataframe",
              "summary": "{\n  \"name\": \"df[['type','name']]\",\n  \"rows\": 11,\n  \"fields\": [\n    {\n      \"column\": \"type\",\n      \"properties\": {\n        \"dtype\": \"category\",\n        \"num_unique_values\": 1,\n        \"samples\": [\n          \"table\"\n        ],\n        \"semantic_type\": \"\",\n        \"description\": \"\"\n      }\n    },\n    {\n      \"column\": \"name\",\n      \"properties\": {\n        \"dtype\": \"string\",\n        \"num_unique_values\": 11,\n        \"samples\": [\n          \"Invoice\"\n        ],\n        \"semantic_type\": \"\",\n        \"description\": \"\"\n      }\n    }\n  ]\n}"
            }
          },
          "metadata": {},
          "execution_count": 1
        }
      ],
      "source": [
        "import sqlite3\n",
        "import pandas as pd\n",
        "\n",
        "# Connect to the SQLite database\n",
        "conn = sqlite3.connect('Chinook_Sqlite.sqlite')\n",
        "\n",
        "# Execute a query\n",
        "query = \"SELECT * FROM sqlite_master where type='table'\"\n",
        "\n",
        "df = pd.read_sql_query(query, conn)\n",
        "df[['type','name']]\n",
        "\n"
      ]
    },
    {
      "cell_type": "code",
      "source": [
        "# Read the first five rows from the Album table\n",
        "df = pd.read_sql_query(\"SELECT * FROM album limit 5\", conn)"
      ],
      "metadata": {
        "id": "IByCSlCPHfyp"
      },
      "execution_count": 2,
      "outputs": []
    },
    {
      "cell_type": "markdown",
      "source": [
        "### **Question 1: List All Tables**\n",
        "\n",
        "**Scenario:**  \n",
        "Your manager, Alex, is new to the team and is trying to understand the structure of the Chinook database. Alex asks you to provide a list of all the tables in the database to get an overview of the available data.\n",
        "\n",
        "**Task:**  \n",
        "Write a query to list all tables in the Chinook database."
      ],
      "metadata": {
        "id": "EWaR48_jKk9l"
      }
    },
    {
      "cell_type": "code",
      "source": [
        "import sqlite3\n",
        "\n",
        "conn = sqlite3.connect('Chinook_Sqlite.sqlite')  # Replace with your database file\n",
        "cursor = conn.cursor()\n",
        "\n",
        "cursor.execute(\"SELECT name FROM sqlite_master WHERE type='table'\")\n",
        "tables = cursor.fetchall()\n",
        "\n",
        "for table in tables:\n",
        "    print(table[0])\n",
        "\n",
        "conn.close()\n"
      ],
      "metadata": {
        "id": "Xvl0VuNCKlVI",
        "colab": {
          "base_uri": "https://localhost:8080/",
          "height": 0
        },
        "outputId": "f10bd1e2-1306-45ef-bbde-b3aeed69caff"
      },
      "execution_count": 9,
      "outputs": [
        {
          "output_type": "stream",
          "name": "stdout",
          "text": [
            "Album\n",
            "Artist\n",
            "Customer\n",
            "Employee\n",
            "Genre\n",
            "Invoice\n",
            "InvoiceLine\n",
            "MediaType\n",
            "Playlist\n",
            "PlaylistTrack\n",
            "Track\n"
          ]
        }
      ]
    },
    {
      "cell_type": "markdown",
      "source": [
        "### **Question 2: Retrieve Top 10 Records from the Albums Table**\n",
        "\n",
        "**Scenario:**  \n",
        "Alex wants to familiarize himself with the kind of albums stored in the database. He asks you to fetch a sample of the album records to get a better idea of the data.\n",
        "\n",
        "**Task:**  \n",
        "Write a query to retrieve the top 10 records from the Albums table.\n",
        "\n",
        "---\n"
      ],
      "metadata": {
        "id": "aKtEST6CKtp2"
      }
    },
    {
      "cell_type": "code",
      "source": [
        "import pandas as pd\n",
        "import sqlite3\n",
        "\n",
        "# Connect to the SQLite database\n",
        "conn = sqlite3.connect('Chinook_Sqlite.sqlite')\n",
        "\n",
        "# Read the first 10 rows from the Album table\n",
        "df = pd.read_sql_query(\"SELECT * FROM Album LIMIT 10\", conn) # Changed table name to 'Album'\n",
        "\n",
        "# Print the dataframe\n",
        "print(df)"
      ],
      "metadata": {
        "id": "cpOGb3OnKzFI",
        "colab": {
          "base_uri": "https://localhost:8080/",
          "height": 0
        },
        "outputId": "045bef11-d7eb-4f92-b8e4-55f444f32cc5"
      },
      "execution_count": 14,
      "outputs": [
        {
          "output_type": "stream",
          "name": "stdout",
          "text": [
            "   AlbumId                                  Title  ArtistId\n",
            "0        1  For Those About To Rock We Salute You         1\n",
            "1        2                      Balls to the Wall         2\n",
            "2        3                      Restless and Wild         2\n",
            "3        4                      Let There Be Rock         1\n",
            "4        5                               Big Ones         3\n",
            "5        6                     Jagged Little Pill         4\n",
            "6        7                               Facelift         5\n",
            "7        8                         Warner 25 Anos         6\n",
            "8        9         Plays Metallica By Four Cellos         7\n",
            "9       10                             Audioslave         8\n"
          ]
        }
      ]
    },
    {
      "cell_type": "markdown",
      "source": [
        "\n",
        "### **Question 3: Count the Number of Tracks per Genre**\n",
        "\n",
        "**Scenario:**  \n",
        "To plan a marketing campaign, Alex needs to know which genres are most represented in the music store. He asks you to count the number of tracks available for each genre.\n",
        "\n",
        "**Task:**  \n",
        "Write a query to count the number of tracks per genre.\n",
        "\n",
        "---\n",
        "\n",
        "\n"
      ],
      "metadata": {
        "id": "44PU97cLK07k"
      }
    },
    {
      "cell_type": "code",
      "source": [
        "# Reconnect to the database\n",
        "conn = sqlite3.connect('Chinook_Sqlite.sqlite') # Changed Chinook_Sqlite.sqlite to 'Chinook_Sqlite.sqlite'\n",
        "\n",
        "# Query to count the number of tracks per genre\n",
        "query_tracks_per_genre = \"\"\"\n",
        "    SELECT g.Name, COUNT(t.TrackId) as TrackCount\n",
        "    FROM Genre g\n",
        "    JOIN Track t ON g.GenreId = t.GenreId\n",
        "    GROUP BY g.Name\n",
        "    ORDER BY TrackCount DESC;\n",
        "\"\"\"\n",
        "\n",
        "# Execute the query and fetch the result\n",
        "cursor = conn.cursor()\n",
        "cursor.execute(query_tracks_per_genre)\n",
        "tracks_per_genre = cursor.fetchall()\n",
        "\n",
        "# Close the cursor and connection\n",
        "cursor.close()\n",
        "conn.close()\n",
        "\n",
        "# Display the result\n",
        "tracks_per_genre\n",
        "\n"
      ],
      "metadata": {
        "id": "NbsRwLOMK5Zw",
        "colab": {
          "base_uri": "https://localhost:8080/",
          "height": 0
        },
        "outputId": "c67803b6-bea1-46f4-b0a1-564550a07f37"
      },
      "execution_count": 18,
      "outputs": [
        {
          "output_type": "execute_result",
          "data": {
            "text/plain": [
              "[('Rock', 1297),\n",
              " ('Latin', 579),\n",
              " ('Metal', 374),\n",
              " ('Alternative & Punk', 332),\n",
              " ('Jazz', 130),\n",
              " ('TV Shows', 93),\n",
              " ('Blues', 81),\n",
              " ('Classical', 74),\n",
              " ('Drama', 64),\n",
              " ('R&B/Soul', 61),\n",
              " ('Reggae', 58),\n",
              " ('Pop', 48),\n",
              " ('Soundtrack', 43),\n",
              " ('Alternative', 40),\n",
              " ('Hip Hop/Rap', 35),\n",
              " ('Electronica/Dance', 30),\n",
              " ('World', 28),\n",
              " ('Heavy Metal', 28),\n",
              " ('Sci Fi & Fantasy', 26),\n",
              " ('Easy Listening', 24),\n",
              " ('Comedy', 17),\n",
              " ('Bossa Nova', 15),\n",
              " ('Science Fiction', 13),\n",
              " ('Rock And Roll', 12),\n",
              " ('Opera', 1)]"
            ]
          },
          "metadata": {},
          "execution_count": 18
        }
      ]
    },
    {
      "cell_type": "markdown",
      "source": [
        "### **Question 4: Calculate the Total Sales by Country**\n",
        "\n",
        "**Scenario:**  \n",
        "Alex is interested in understanding the revenue distribution across different countries. He asks you to calculate the total sales generated from each country.\n",
        "\n",
        "**Task:**  \n",
        "Write a query to calculate the total sales by country."
      ],
      "metadata": {
        "id": "ORgDHk8vLH5k"
      }
    },
    {
      "source": [
        "import sqlite3\n",
        "import pandas as pd\n",
        "\n",
        "# Connect to SQLite database\n",
        "conn = sqlite3.connect('Chinook_Sqlite.sqlite') # Changed database name to Chinook_Sqlite.sqlite\n",
        "\n",
        "# SQL query to calculate total sales by country\n",
        "# Changed table and column names to match the Chinook_Sqlite.sqlite database\n",
        "query = \"\"\"\n",
        "SELECT BillingCountry, SUM(Total) AS Total_Sales\n",
        "FROM Invoice\n",
        "GROUP BY BillingCountry;\n",
        "\"\"\"\n",
        "\n",
        "# Execute the query and load the results into a pandas DataFrame\n",
        "total_sales_by_country = pd.read_sql_query(query, conn)\n",
        "\n",
        "# Close the connection\n",
        "conn.close()\n",
        "\n",
        "# Display the results\n",
        "print(total_sales_by_country)"
      ],
      "cell_type": "code",
      "metadata": {
        "colab": {
          "base_uri": "https://localhost:8080/",
          "height": 0
        },
        "id": "MKkuKnHWRz2y",
        "outputId": "b326694b-65d2-4228-bc23-fd12519fc965"
      },
      "execution_count": 25,
      "outputs": [
        {
          "output_type": "stream",
          "name": "stdout",
          "text": [
            "    BillingCountry  Total_Sales\n",
            "0        Argentina        37.62\n",
            "1        Australia        37.62\n",
            "2          Austria        42.62\n",
            "3          Belgium        37.62\n",
            "4           Brazil       190.10\n",
            "5           Canada       303.96\n",
            "6            Chile        46.62\n",
            "7   Czech Republic        90.24\n",
            "8          Denmark        37.62\n",
            "9          Finland        41.62\n",
            "10          France       195.10\n",
            "11         Germany       156.48\n",
            "12         Hungary        45.62\n",
            "13           India        75.26\n",
            "14         Ireland        45.62\n",
            "15           Italy        37.62\n",
            "16     Netherlands        40.62\n",
            "17          Norway        39.62\n",
            "18          Poland        37.62\n",
            "19        Portugal        77.24\n",
            "20           Spain        37.62\n",
            "21          Sweden        38.62\n",
            "22             USA       523.06\n",
            "23  United Kingdom       112.86\n"
          ]
        }
      ]
    },
    {
      "cell_type": "markdown",
      "source": [
        "\n",
        "### **Question 5: Identify the Top 5 Customers by Total Purchase Amount**\n",
        "\n",
        "**Scenario:**  \n",
        "To improve customer relationship management, Alex wants to identify the top spenders. He asks you to find out who the top 5 customers are based on their total purchase amount.\n",
        "\n",
        "**Task:**  \n",
        "Write a query to identify the top 5 customers by total purchase amount.\n",
        "\n",
        "---\n"
      ],
      "metadata": {
        "id": "UXTx0x4rLBE8"
      }
    },
    {
      "cell_type": "code",
      "source": [
        "import sqlite3\n",
        "import pandas as pd\n",
        "\n",
        "# Connect to SQLite database\n",
        "conn = sqlite3.connect('Chinook_Sqlite.sqlite')\n",
        "\n",
        "# SQL query to find the top 5 customers by total purchase amount\n",
        "query = \"\"\"\n",
        "SELECT c.CustomerId, c.FirstName, c.LastName, SUM(i.Total) AS TotalPurchaseAmount\n",
        "FROM Customer c\n",
        "JOIN Invoice i ON c.CustomerId = i.CustomerId\n",
        "GROUP BY c.CustomerId, c.FirstName, c.LastName\n",
        "ORDER BY TotalPurchaseAmount DESC\n",
        "LIMIT 5;\n",
        "\"\"\"\n",
        "\n",
        "# Execute the query and load the results into a pandas DataFrame\n",
        "top_customers = pd.read_sql_query(query, conn)\n",
        "\n",
        "# Close the connection\n",
        "conn.close()\n",
        "\n",
        "# Display the results\n",
        "print(top_customers)"
      ],
      "metadata": {
        "id": "ZH1PbjDtLMl6",
        "colab": {
          "base_uri": "https://localhost:8080/",
          "height": 0
        },
        "outputId": "7f59bf7d-d4cf-4db3-c558-0bde518c8641"
      },
      "execution_count": 26,
      "outputs": [
        {
          "output_type": "stream",
          "name": "stdout",
          "text": [
            "   CustomerId FirstName    LastName  TotalPurchaseAmount\n",
            "0           6    Helena        Holý                49.62\n",
            "1          26   Richard  Cunningham                47.62\n",
            "2          57      Luis       Rojas                46.62\n",
            "3          45  Ladislav      Kovács                45.62\n",
            "4          46      Hugh    O'Reilly                45.62\n"
          ]
        }
      ]
    },
    {
      "cell_type": "markdown",
      "source": [
        "\n",
        "### **Question 6: Find the Most Popular Artist by Total Track Sales**\n",
        "\n",
        "**Scenario:**  \n",
        "Alex wants to identify the most popular artist in the store based on track sales. He asks you to find out which artist has the highest total track sales.\n",
        "\n",
        "**Task:**  \n",
        "Write a query to find the most popular artist by total track sales.\n",
        "\n",
        "---\n"
      ],
      "metadata": {
        "id": "Mtf6LDc2LNo6"
      }
    },
    {
      "cell_type": "code",
      "source": [
        "import sqlite3\n",
        "import pandas as pd\n",
        "\n",
        "# Connect to SQLite database\n",
        "conn = sqlite3.connect('Chinook_Sqlite.sqlite')\n",
        "\n",
        "# SQL query to find the most popular artist by total track sales\n",
        "query = \"\"\"\n",
        "SELECT ar.Name, SUM(il.Quantity) AS TotalTrackSales\n",
        "FROM Artist ar\n",
        "JOIN Album al ON ar.ArtistId = al.ArtistId\n",
        "JOIN Track t ON al.AlbumId = t.AlbumId\n",
        "JOIN InvoiceLine il ON t.TrackId = il.TrackId\n",
        "GROUP BY ar.Name\n",
        "ORDER BY TotalTrackSales DESC\n",
        "LIMIT 1;\n",
        "\"\"\"\n",
        "\n",
        "# Execute the query and load the results into a pandas DataFrame\n",
        "popular_artist = pd.read_sql_query(query, conn)\n",
        "\n",
        "# Close the connection\n",
        "conn.close()\n",
        "\n",
        "# Display the results\n",
        "print(popular_artist)\n"
      ],
      "metadata": {
        "id": "ahTCkRqkLRBR",
        "colab": {
          "base_uri": "https://localhost:8080/",
          "height": 0
        },
        "outputId": "10583351-3748-45a6-f3cd-af1cb0cd021d"
      },
      "execution_count": 27,
      "outputs": [
        {
          "output_type": "stream",
          "name": "stdout",
          "text": [
            "          Name  TotalTrackSales\n",
            "0  Iron Maiden              140\n"
          ]
        }
      ]
    },
    {
      "cell_type": "markdown",
      "source": [
        "\n",
        "### **Question 7: Determine the Average Invoice Total by Customer Country**\n",
        "\n",
        "**Scenario:**  \n",
        "To understand the purchasing behavior of customers from different countries, Alex asks you to determine the average invoice total for each country.\n",
        "\n",
        "**Task:**  \n",
        "Write a query to determine the average invoice total by customer country.\n",
        "\n",
        "---\n",
        "\n"
      ],
      "metadata": {
        "id": "b_wWlf5qLRkI"
      }
    },
    {
      "cell_type": "code",
      "source": [
        "import sqlite3\n",
        "import pandas as pd\n",
        "\n",
        "# Connect to SQLite database\n",
        "conn = sqlite3.connect('Chinook_Sqlite.sqlite')\n",
        "\n",
        "# SQL query to determine the average invoice total by customer country\n",
        "query = \"\"\"\n",
        "SELECT BillingCountry, AVG(Total) AS AverageInvoiceTotal\n",
        "FROM Invoice\n",
        "GROUP BY BillingCountry;\n",
        "\"\"\"\n",
        "\n",
        "# Execute the query and load the results into a pandas DataFrame\n",
        "avg_invoice_total = pd.read_sql_query(query, conn)\n",
        "\n",
        "# Close the connection\n",
        "conn.close()\n",
        "\n",
        "# Display the results\n",
        "print(avg_invoice_total)"
      ],
      "metadata": {
        "id": "MGsaxtTBLXI1",
        "colab": {
          "base_uri": "https://localhost:8080/",
          "height": 0
        },
        "outputId": "bea9b593-3502-4009-f2f6-50fb0da25ec2"
      },
      "execution_count": 28,
      "outputs": [
        {
          "output_type": "stream",
          "name": "stdout",
          "text": [
            "    BillingCountry  AverageInvoiceTotal\n",
            "0        Argentina             5.374286\n",
            "1        Australia             5.374286\n",
            "2          Austria             6.088571\n",
            "3          Belgium             5.374286\n",
            "4           Brazil             5.431429\n",
            "5           Canada             5.427857\n",
            "6            Chile             6.660000\n",
            "7   Czech Republic             6.445714\n",
            "8          Denmark             5.374286\n",
            "9          Finland             5.945714\n",
            "10          France             5.574286\n",
            "11         Germany             5.588571\n",
            "12         Hungary             6.517143\n",
            "13           India             5.789231\n",
            "14         Ireland             6.517143\n",
            "15           Italy             5.374286\n",
            "16     Netherlands             5.802857\n",
            "17          Norway             5.660000\n",
            "18          Poland             5.374286\n",
            "19        Portugal             5.517143\n",
            "20           Spain             5.374286\n",
            "21          Sweden             5.517143\n",
            "22             USA             5.747912\n",
            "23  United Kingdom             5.374286\n"
          ]
        }
      ]
    },
    {
      "cell_type": "markdown",
      "source": [
        "### **Question 8: Analyze Employee Sales Performance**\n",
        "\n",
        "**Scenario:**  \n",
        "Alex wants to evaluate the performance of the sales team. He asks you to analyze the sales performance of each employee.\n",
        "\n",
        "**Task:**  \n",
        "Write a query to analyze the sales performance of each employee.\n",
        "\n",
        "---\n",
        "\n"
      ],
      "metadata": {
        "id": "jvAn4ApzLXnE"
      }
    },
    {
      "cell_type": "code",
      "source": [
        "import sqlite3\n",
        "import pandas as pd\n",
        "\n",
        "# Connect to SQLite database\n",
        "conn = sqlite3.connect('Chinook_Sqlite.sqlite')\n",
        "\n",
        "# SQL query to analyze employee sales performance\n",
        "query = \"\"\"\n",
        "SELECT e.FirstName, e.LastName, SUM(i.Total) AS TotalSales\n",
        "FROM Employee e\n",
        "JOIN Customer c ON e.EmployeeId = c.SupportRepId\n",
        "JOIN Invoice i ON c.CustomerId = i.CustomerId\n",
        "GROUP BY e.EmployeeId\n",
        "ORDER BY TotalSales DESC;\n",
        "\"\"\"\n",
        "\n",
        "# Execute the query and load the results into a pandas DataFrame\n",
        "employee_sales = pd.read_sql_query(query, conn)\n",
        "\n",
        "# Close the connection\n",
        "conn.close()\n",
        "\n",
        "# Display the results\n",
        "print(employee_sales)"
      ],
      "metadata": {
        "id": "SYsQoJzSLZPL",
        "colab": {
          "base_uri": "https://localhost:8080/",
          "height": 0
        },
        "outputId": "81167f69-c160-4a9c-bc8c-3e3684e81bf9"
      },
      "execution_count": 29,
      "outputs": [
        {
          "output_type": "stream",
          "name": "stdout",
          "text": [
            "  FirstName LastName  TotalSales\n",
            "0      Jane  Peacock      833.04\n",
            "1  Margaret     Park      775.40\n",
            "2     Steve  Johnson      720.16\n"
          ]
        }
      ]
    },
    {
      "cell_type": "markdown",
      "source": [
        "### **Question 9: Identify Trends in Monthly Sales**\n",
        "\n",
        "**Scenario:**  \n",
        "Alex wants to identify sales trends over time. He asks you to analyze the monthly sales data to spot any trends.\n",
        "\n",
        "**Task:**  \n",
        "Write a query to identify trends in monthly sales.\n",
        "\n",
        "---\n",
        "\n"
      ],
      "metadata": {
        "id": "H8qaoGDkLZpi"
      }
    },
    {
      "cell_type": "code",
      "source": [
        "import sqlite3\n",
        "import pandas as pd\n",
        "\n",
        "# Connect to SQLite database\n",
        "conn = sqlite3.connect('Chinook_Sqlite.sqlite')\n",
        "\n",
        "# SQL query to analyze monthly sales trends\n",
        "query = \"\"\"\n",
        "SELECT STRFTIME('%Y-%m', InvoiceDate) AS SalesMonth, SUM(Total) AS MonthlySales\n",
        "FROM Invoice\n",
        "GROUP BY SalesMonth\n",
        "ORDER BY SalesMonth;\n",
        "\"\"\"\n",
        "\n",
        "# Execute the query and load the results into a pandas DataFrame\n",
        "monthly_sales = pd.read_sql_query(query, conn)\n",
        "\n",
        "# Close the connection\n",
        "conn.close()\n",
        "\n",
        "# Display the results\n",
        "print(monthly_sales)"
      ],
      "metadata": {
        "id": "9uHkW-WfLbSm",
        "colab": {
          "base_uri": "https://localhost:8080/",
          "height": 0
        },
        "outputId": "4ee14088-2dc5-49f3-9f6d-f5dc7e0ef723"
      },
      "execution_count": 30,
      "outputs": [
        {
          "output_type": "stream",
          "name": "stdout",
          "text": [
            "   SalesMonth  MonthlySales\n",
            "0     2009-01         35.64\n",
            "1     2009-02         37.62\n",
            "2     2009-03         37.62\n",
            "3     2009-04         37.62\n",
            "4     2009-05         37.62\n",
            "5     2009-06         37.62\n",
            "6     2009-07         37.62\n",
            "7     2009-08         37.62\n",
            "8     2009-09         37.62\n",
            "9     2009-10         37.62\n",
            "10    2009-11         37.62\n",
            "11    2009-12         37.62\n",
            "12    2010-01         52.62\n",
            "13    2010-02         46.62\n",
            "14    2010-03         44.62\n",
            "15    2010-04         37.62\n",
            "16    2010-05         37.62\n",
            "17    2010-06         37.62\n",
            "18    2010-07         37.62\n",
            "19    2010-08         37.62\n",
            "20    2010-09         36.63\n",
            "21    2010-10         37.62\n",
            "22    2010-11         37.62\n",
            "23    2010-12         37.62\n",
            "24    2011-01         37.62\n",
            "25    2011-02         37.62\n",
            "26    2011-03         37.62\n",
            "27    2011-04         51.62\n",
            "28    2011-05         42.62\n",
            "29    2011-06         50.62\n",
            "30    2011-07         37.62\n",
            "31    2011-08         37.62\n",
            "32    2011-09         37.62\n",
            "33    2011-10         37.62\n",
            "34    2011-11         23.76\n",
            "35    2011-12         37.62\n",
            "36    2012-01         37.62\n",
            "37    2012-02         37.62\n",
            "38    2012-03         37.62\n",
            "39    2012-04         37.62\n",
            "40    2012-05         37.62\n",
            "41    2012-06         37.62\n",
            "42    2012-07         39.62\n",
            "43    2012-08         47.62\n",
            "44    2012-09         46.71\n",
            "45    2012-10         42.62\n",
            "46    2012-11         37.62\n",
            "47    2012-12         37.62\n",
            "48    2013-01         37.62\n",
            "49    2013-02         27.72\n",
            "50    2013-03         37.62\n",
            "51    2013-04         33.66\n",
            "52    2013-05         37.62\n",
            "53    2013-06         37.62\n",
            "54    2013-07         37.62\n",
            "55    2013-08         37.62\n",
            "56    2013-09         37.62\n",
            "57    2013-10         37.62\n",
            "58    2013-11         49.62\n",
            "59    2013-12         38.62\n"
          ]
        }
      ]
    },
    {
      "cell_type": "markdown",
      "source": [
        "### **Question 10: Recommend Marketing Strategies Based on Data Insights**\n",
        "\n",
        "**Scenario:**  \n",
        "Based on the insights you have gathered from the previous queries, Alex asks you to recommend at least two marketing strategies that MusicWave Inc. should consider to increase sales and customer satisfaction.\n",
        "\n",
        "**Task:**  \n",
        "Based on your analysis, write a brief recommendation for two marketing strategies that could help MusicWave Inc. increase sales and improve customer satisfaction."
      ],
      "metadata": {
        "id": "rl-AFQPeLbzo"
      }
    },
    {
      "cell_type": "code",
      "source": [],
      "metadata": {
        "id": "dQcU_BImLcLe"
      },
      "execution_count": null,
      "outputs": []
    },
    {
      "cell_type": "markdown",
      "source": [
        "Based on the data insights gathered from previous queries, here are two marketing strategies that MusicWave Inc. could implement to increase sales and improve customer satisfaction:\n",
        "\n",
        "1. Targeted Marketing Campaigns Based on High Sales Regions\n",
        "From the sales data, it's likely that some countries or regions are contributing more significantly to overall revenue. MusicWave Inc. can implement region-specific marketing strategies by:\n",
        "\n",
        "Focusing more on high-performing regions: Deploy more targeted advertising campaigns and promotions in countries where sales are already strong. This can involve offering discounts, exclusive content, or even personalized email campaigns to customers in these regions.\n",
        "\n",
        "Localized content: Creating marketing materials and content tailored to the preferences and culture of customers in these high-sales areas, which could further boost engagement and sales.\n",
        "\n",
        "This strategy will help increase sales by building on the company's current strengths in specific markets and ensuring that marketing resources are spent where they have the most impact."
      ],
      "metadata": {
        "id": "-f9WeAyNT4zH"
      }
    }
  ]
}